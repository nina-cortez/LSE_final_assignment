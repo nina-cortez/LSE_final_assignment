{
 "cells": [
  {
   "cell_type": "markdown",
   "id": "701d7b1f",
   "metadata": {},
   "source": [
    "## Analyse provided data\n",
    "\n",
    "1. How many locations are there in the data set?\n",
    "2. What are the five locations with the highest number of records?\n",
    "3. How many service settings, context types, national categories, and appointment statuses are there?"
   ]
  },
  {
   "cell_type": "markdown",
   "id": "bcbc7db6",
   "metadata": {},
   "source": [
    "### Import Pandas and prepare DataFrames"
   ]
  },
  {
   "cell_type": "code",
   "execution_count": 2,
   "id": "79cbdd59",
   "metadata": {},
   "outputs": [
    {
     "name": "stdout",
     "output_type": "stream",
     "text": [
      "(137793, 8)\n",
      "Index(['sub_icb_location_code', 'sub_icb_location_ons_code',\n",
      "       'sub_icb_location_name', 'icb_ons_code', 'region_ons_code',\n",
      "       'appointment_date', 'actual_duration', 'count_of_appointments'],\n",
      "      dtype='object')\n",
      "(596821, 7)\n",
      "Index(['icb_ons_code', 'appointment_month', 'appointment_status', 'hcp_type',\n",
      "       'appointment_mode', 'time_between_book_and_appointment',\n",
      "       'count_of_appointments'],\n",
      "      dtype='object')\n",
      "(817394, 8)\n",
      "Index(['appointment_date', 'icb_ons_code', 'sub_icb_location_name',\n",
      "       'service_setting', 'context_type', 'national_category',\n",
      "       'count_of_appointments', 'appointment_month'],\n",
      "      dtype='object')\n"
     ]
    }
   ],
   "source": [
    "# Import packages with standard conventions\n",
    "import numpy as np\n",
    "import pandas as pd\n",
    "\n",
    "ad = pd.read_csv('actual_duration.csv')\n",
    "ar = pd.read_csv('appointments_regional.csv')\n",
    "nc = pd.read_excel('national_categories.xlsx')\n",
    "\n",
    "# View the DataFrames.\n",
    "print(ad.shape)\n",
    "print(ad.columns)\n",
    "\n",
    "print(ar.shape)\n",
    "print(ar.columns)\n",
    "\n",
    "print(nc.shape)\n",
    "print(nc.columns)"
   ]
  },
  {
   "cell_type": "markdown",
   "id": "6fe077d6",
   "metadata": {},
   "source": [
    "### Determine descriptive statistics"
   ]
  },
  {
   "cell_type": "code",
   "execution_count": 3,
   "id": "52eba018",
   "metadata": {
    "scrolled": true
   },
   "outputs": [
    {
     "data": {
      "text/html": [
       "<div>\n",
       "<style scoped>\n",
       "    .dataframe tbody tr th:only-of-type {\n",
       "        vertical-align: middle;\n",
       "    }\n",
       "\n",
       "    .dataframe tbody tr th {\n",
       "        vertical-align: top;\n",
       "    }\n",
       "\n",
       "    .dataframe thead th {\n",
       "        text-align: right;\n",
       "    }\n",
       "</style>\n",
       "<table border=\"1\" class=\"dataframe\">\n",
       "  <thead>\n",
       "    <tr style=\"text-align: right;\">\n",
       "      <th></th>\n",
       "      <th>count_of_appointments</th>\n",
       "    </tr>\n",
       "  </thead>\n",
       "  <tbody>\n",
       "    <tr>\n",
       "      <th>count</th>\n",
       "      <td>137793.000000</td>\n",
       "    </tr>\n",
       "    <tr>\n",
       "      <th>mean</th>\n",
       "      <td>1219.080011</td>\n",
       "    </tr>\n",
       "    <tr>\n",
       "      <th>std</th>\n",
       "      <td>1546.902956</td>\n",
       "    </tr>\n",
       "    <tr>\n",
       "      <th>min</th>\n",
       "      <td>1.000000</td>\n",
       "    </tr>\n",
       "    <tr>\n",
       "      <th>25%</th>\n",
       "      <td>194.000000</td>\n",
       "    </tr>\n",
       "    <tr>\n",
       "      <th>50%</th>\n",
       "      <td>696.000000</td>\n",
       "    </tr>\n",
       "    <tr>\n",
       "      <th>75%</th>\n",
       "      <td>1621.000000</td>\n",
       "    </tr>\n",
       "    <tr>\n",
       "      <th>max</th>\n",
       "      <td>15400.000000</td>\n",
       "    </tr>\n",
       "  </tbody>\n",
       "</table>\n",
       "</div>"
      ],
      "text/plain": [
       "       count_of_appointments\n",
       "count          137793.000000\n",
       "mean             1219.080011\n",
       "std              1546.902956\n",
       "min                 1.000000\n",
       "25%               194.000000\n",
       "50%               696.000000\n",
       "75%              1621.000000\n",
       "max             15400.000000"
      ]
     },
     "execution_count": 3,
     "metadata": {},
     "output_type": "execute_result"
    }
   ],
   "source": [
    "ad.describe()"
   ]
  },
  {
   "cell_type": "code",
   "execution_count": 4,
   "id": "c1e64522",
   "metadata": {},
   "outputs": [
    {
     "data": {
      "text/html": [
       "<div>\n",
       "<style scoped>\n",
       "    .dataframe tbody tr th:only-of-type {\n",
       "        vertical-align: middle;\n",
       "    }\n",
       "\n",
       "    .dataframe tbody tr th {\n",
       "        vertical-align: top;\n",
       "    }\n",
       "\n",
       "    .dataframe thead th {\n",
       "        text-align: right;\n",
       "    }\n",
       "</style>\n",
       "<table border=\"1\" class=\"dataframe\">\n",
       "  <thead>\n",
       "    <tr style=\"text-align: right;\">\n",
       "      <th></th>\n",
       "      <th>count_of_appointments</th>\n",
       "    </tr>\n",
       "  </thead>\n",
       "  <tbody>\n",
       "    <tr>\n",
       "      <th>count</th>\n",
       "      <td>596821.000000</td>\n",
       "    </tr>\n",
       "    <tr>\n",
       "      <th>mean</th>\n",
       "      <td>1244.601857</td>\n",
       "    </tr>\n",
       "    <tr>\n",
       "      <th>std</th>\n",
       "      <td>5856.887042</td>\n",
       "    </tr>\n",
       "    <tr>\n",
       "      <th>min</th>\n",
       "      <td>1.000000</td>\n",
       "    </tr>\n",
       "    <tr>\n",
       "      <th>25%</th>\n",
       "      <td>7.000000</td>\n",
       "    </tr>\n",
       "    <tr>\n",
       "      <th>50%</th>\n",
       "      <td>47.000000</td>\n",
       "    </tr>\n",
       "    <tr>\n",
       "      <th>75%</th>\n",
       "      <td>308.000000</td>\n",
       "    </tr>\n",
       "    <tr>\n",
       "      <th>max</th>\n",
       "      <td>211265.000000</td>\n",
       "    </tr>\n",
       "  </tbody>\n",
       "</table>\n",
       "</div>"
      ],
      "text/plain": [
       "       count_of_appointments\n",
       "count          596821.000000\n",
       "mean             1244.601857\n",
       "std              5856.887042\n",
       "min                 1.000000\n",
       "25%                 7.000000\n",
       "50%                47.000000\n",
       "75%               308.000000\n",
       "max            211265.000000"
      ]
     },
     "execution_count": 4,
     "metadata": {},
     "output_type": "execute_result"
    }
   ],
   "source": [
    "ar.describe()"
   ]
  },
  {
   "cell_type": "code",
   "execution_count": 5,
   "id": "e73fda7b",
   "metadata": {},
   "outputs": [
    {
     "data": {
      "text/html": [
       "<div>\n",
       "<style scoped>\n",
       "    .dataframe tbody tr th:only-of-type {\n",
       "        vertical-align: middle;\n",
       "    }\n",
       "\n",
       "    .dataframe tbody tr th {\n",
       "        vertical-align: top;\n",
       "    }\n",
       "\n",
       "    .dataframe thead th {\n",
       "        text-align: right;\n",
       "    }\n",
       "</style>\n",
       "<table border=\"1\" class=\"dataframe\">\n",
       "  <thead>\n",
       "    <tr style=\"text-align: right;\">\n",
       "      <th></th>\n",
       "      <th>count_of_appointments</th>\n",
       "    </tr>\n",
       "  </thead>\n",
       "  <tbody>\n",
       "    <tr>\n",
       "      <th>count</th>\n",
       "      <td>817394.000000</td>\n",
       "    </tr>\n",
       "    <tr>\n",
       "      <th>mean</th>\n",
       "      <td>362.183684</td>\n",
       "    </tr>\n",
       "    <tr>\n",
       "      <th>std</th>\n",
       "      <td>1084.576600</td>\n",
       "    </tr>\n",
       "    <tr>\n",
       "      <th>min</th>\n",
       "      <td>1.000000</td>\n",
       "    </tr>\n",
       "    <tr>\n",
       "      <th>25%</th>\n",
       "      <td>7.000000</td>\n",
       "    </tr>\n",
       "    <tr>\n",
       "      <th>50%</th>\n",
       "      <td>25.000000</td>\n",
       "    </tr>\n",
       "    <tr>\n",
       "      <th>75%</th>\n",
       "      <td>128.000000</td>\n",
       "    </tr>\n",
       "    <tr>\n",
       "      <th>max</th>\n",
       "      <td>16590.000000</td>\n",
       "    </tr>\n",
       "  </tbody>\n",
       "</table>\n",
       "</div>"
      ],
      "text/plain": [
       "       count_of_appointments\n",
       "count          817394.000000\n",
       "mean              362.183684\n",
       "std              1084.576600\n",
       "min                 1.000000\n",
       "25%                 7.000000\n",
       "50%                25.000000\n",
       "75%               128.000000\n",
       "max             16590.000000"
      ]
     },
     "execution_count": 5,
     "metadata": {},
     "output_type": "execute_result"
    }
   ],
   "source": [
    "nc.describe()"
   ]
  },
  {
   "cell_type": "markdown",
   "id": "46c47ab8",
   "metadata": {},
   "source": [
    "### How many locations are there in the data set?"
   ]
  },
  {
   "cell_type": "code",
   "execution_count": 50,
   "id": "0c72ecc0",
   "metadata": {
    "scrolled": true
   },
   "outputs": [
    {
     "name": "stdout",
     "output_type": "stream",
     "text": [
      "NHS North West London ICB - W2U3Z              13007\n",
      "NHS Kent and Medway ICB - 91Q                  12637\n",
      "NHS Devon ICB - 15N                            12526\n",
      "NHS Hampshire and Isle Of Wight ICB - D9Y0V    12171\n",
      "NHS North East London ICB - A3A8R              11837\n",
      "                                               ...  \n",
      "NHS North East and North Cumbria ICB - 00N      4210\n",
      "NHS Lancashire and South Cumbria ICB - 02G      4169\n",
      "NHS Cheshire and Merseyside ICB - 01V           3496\n",
      "NHS Cheshire and Merseyside ICB - 01T           3242\n",
      "NHS Greater Manchester ICB - 00V                2170\n",
      "Name: sub_icb_location_name, Length: 106, dtype: int64 \n",
      "\n",
      "There are 106 locations in total.\n"
     ]
    }
   ],
   "source": [
    "# Count how many locations using the nc DatFrame\n",
    "locations = nc['sub_icb_location_name'].value_counts()\n",
    "\n",
    "print(locations, '\\n')\n",
    "print(f\"There are {len(locations)} locations in total.\")"
   ]
  },
  {
   "cell_type": "markdown",
   "id": "22404b8e",
   "metadata": {},
   "source": [
    " "
   ]
  },
  {
   "cell_type": "markdown",
   "id": "33747844",
   "metadata": {},
   "source": [
    "### What are the five locations with the highest number of records?"
   ]
  },
  {
   "cell_type": "code",
   "execution_count": 12,
   "id": "13aa0a87",
   "metadata": {
    "scrolled": false
   },
   "outputs": [
    {
     "data": {
      "text/html": [
       "<div>\n",
       "<style scoped>\n",
       "    .dataframe tbody tr th:only-of-type {\n",
       "        vertical-align: middle;\n",
       "    }\n",
       "\n",
       "    .dataframe tbody tr th {\n",
       "        vertical-align: top;\n",
       "    }\n",
       "\n",
       "    .dataframe thead th {\n",
       "        text-align: right;\n",
       "    }\n",
       "</style>\n",
       "<table border=\"1\" class=\"dataframe\">\n",
       "  <thead>\n",
       "    <tr style=\"text-align: right;\">\n",
       "      <th></th>\n",
       "      <th>sub_icb_location_name</th>\n",
       "    </tr>\n",
       "  </thead>\n",
       "  <tbody>\n",
       "    <tr>\n",
       "      <th>NHS North West London ICB - W2U3Z</th>\n",
       "      <td>13007</td>\n",
       "    </tr>\n",
       "    <tr>\n",
       "      <th>NHS Kent and Medway ICB - 91Q</th>\n",
       "      <td>12637</td>\n",
       "    </tr>\n",
       "    <tr>\n",
       "      <th>NHS Devon ICB - 15N</th>\n",
       "      <td>12526</td>\n",
       "    </tr>\n",
       "    <tr>\n",
       "      <th>NHS Hampshire and Isle Of Wight ICB - D9Y0V</th>\n",
       "      <td>12171</td>\n",
       "    </tr>\n",
       "    <tr>\n",
       "      <th>NHS North East London ICB - A3A8R</th>\n",
       "      <td>11837</td>\n",
       "    </tr>\n",
       "    <tr>\n",
       "      <th>...</th>\n",
       "      <td>...</td>\n",
       "    </tr>\n",
       "    <tr>\n",
       "      <th>NHS North East and North Cumbria ICB - 00N</th>\n",
       "      <td>4210</td>\n",
       "    </tr>\n",
       "    <tr>\n",
       "      <th>NHS Lancashire and South Cumbria ICB - 02G</th>\n",
       "      <td>4169</td>\n",
       "    </tr>\n",
       "    <tr>\n",
       "      <th>NHS Cheshire and Merseyside ICB - 01V</th>\n",
       "      <td>3496</td>\n",
       "    </tr>\n",
       "    <tr>\n",
       "      <th>NHS Cheshire and Merseyside ICB - 01T</th>\n",
       "      <td>3242</td>\n",
       "    </tr>\n",
       "    <tr>\n",
       "      <th>NHS Greater Manchester ICB - 00V</th>\n",
       "      <td>2170</td>\n",
       "    </tr>\n",
       "  </tbody>\n",
       "</table>\n",
       "<p>106 rows × 1 columns</p>\n",
       "</div>"
      ],
      "text/plain": [
       "                                             sub_icb_location_name\n",
       "NHS North West London ICB - W2U3Z                            13007\n",
       "NHS Kent and Medway ICB - 91Q                                12637\n",
       "NHS Devon ICB - 15N                                          12526\n",
       "NHS Hampshire and Isle Of Wight ICB - D9Y0V                  12171\n",
       "NHS North East London ICB - A3A8R                            11837\n",
       "...                                                            ...\n",
       "NHS North East and North Cumbria ICB - 00N                    4210\n",
       "NHS Lancashire and South Cumbria ICB - 02G                    4169\n",
       "NHS Cheshire and Merseyside ICB - 01V                         3496\n",
       "NHS Cheshire and Merseyside ICB - 01T                         3242\n",
       "NHS Greater Manchester ICB - 00V                              2170\n",
       "\n",
       "[106 rows x 1 columns]"
      ]
     },
     "execution_count": 12,
     "metadata": {},
     "output_type": "execute_result"
    }
   ],
   "source": [
    "# Count which locations have the highest number of records\n",
    "nc['sub_icb_location_name'].value_counts().to_frame()"
   ]
  },
  {
   "cell_type": "markdown",
   "id": "0809f056",
   "metadata": {},
   "source": [
    "There are 106 locations.\n",
    "\n",
    "Top 5 most number of records are:\n",
    "\n",
    "NHS North West London ICB - W2U3Z\t13007\\\n",
    "NHS Kent and Medway ICB - 91Q\t12637\\\n",
    "NHS Devon ICB - 15N\t12526\\\n",
    "NHS Hampshire and Isle Of Wight ICB - D9Y0V\t12171\\\n",
    "NHS North East London ICB - A3A8R\t11837"
   ]
  },
  {
   "cell_type": "markdown",
   "id": "83043180",
   "metadata": {},
   "source": [
    "**Which areas have the most number of appointments:**"
   ]
  },
  {
   "cell_type": "code",
   "execution_count": 29,
   "id": "2c3c846f",
   "metadata": {
    "scrolled": false
   },
   "outputs": [
    {
     "name": "stdout",
     "output_type": "stream",
     "text": [
      "sub_icb_location_name\n",
      "NHS North West London ICB - W2U3Z               12142390\n",
      "NHS North East London ICB - A3A8R                9588891\n",
      "NHS Kent and Medway ICB - 91Q                    9286167\n",
      "NHS Hampshire and Isle Of Wight ICB - D9Y0V      8288102\n",
      "NHS South East London ICB - 72Q                  7850170\n",
      "                                                  ...   \n",
      "NHS Cheshire and Merseyside ICB - 01V             641149\n",
      "NHS Nottingham and Nottinghamshire ICB - 02Q      639660\n",
      "NHS Greater Manchester ICB - 00V                  639211\n",
      "NHS Cheshire and Merseyside ICB - 01T             606606\n",
      "NHS Lancashire and South Cumbria ICB - 02G        554694\n",
      "Name: count_of_appointments, Length: 106, dtype: int64\n"
     ]
    }
   ],
   "source": [
    "# Determine the most number of appointments among the locations\n",
    "loc_sum = locations.groupby(['sub_icb_location_name'])['count_of_appointments']\\\n",
    ".agg(sum).sort_values(ascending=False)\n",
    "\n",
    "# View the DataFrame\n",
    "print(loc_sum)"
   ]
  },
  {
   "cell_type": "markdown",
   "id": "87bb5dcc",
   "metadata": {},
   "source": [
    " "
   ]
  },
  {
   "cell_type": "markdown",
   "id": "2e8cf31d",
   "metadata": {},
   "source": [
    "### How many service settings, context types, national categories, and appointment statuses are there?"
   ]
  },
  {
   "cell_type": "markdown",
   "id": "b2a2cc33",
   "metadata": {},
   "source": [
    "**Service settings:**"
   ]
  },
  {
   "cell_type": "code",
   "execution_count": 35,
   "id": "6cbe4573",
   "metadata": {
    "scrolled": false
   },
   "outputs": [
    {
     "data": {
      "text/html": [
       "<div>\n",
       "<style scoped>\n",
       "    .dataframe tbody tr th:only-of-type {\n",
       "        vertical-align: middle;\n",
       "    }\n",
       "\n",
       "    .dataframe tbody tr th {\n",
       "        vertical-align: top;\n",
       "    }\n",
       "\n",
       "    .dataframe thead th {\n",
       "        text-align: right;\n",
       "    }\n",
       "</style>\n",
       "<table border=\"1\" class=\"dataframe\">\n",
       "  <thead>\n",
       "    <tr style=\"text-align: right;\">\n",
       "      <th></th>\n",
       "      <th>service_setting</th>\n",
       "    </tr>\n",
       "  </thead>\n",
       "  <tbody>\n",
       "    <tr>\n",
       "      <th>General Practice</th>\n",
       "      <td>359274</td>\n",
       "    </tr>\n",
       "    <tr>\n",
       "      <th>Primary Care Network</th>\n",
       "      <td>183790</td>\n",
       "    </tr>\n",
       "    <tr>\n",
       "      <th>Other</th>\n",
       "      <td>138789</td>\n",
       "    </tr>\n",
       "    <tr>\n",
       "      <th>Extended Access Provision</th>\n",
       "      <td>108122</td>\n",
       "    </tr>\n",
       "    <tr>\n",
       "      <th>Unmapped</th>\n",
       "      <td>27419</td>\n",
       "    </tr>\n",
       "  </tbody>\n",
       "</table>\n",
       "</div>"
      ],
      "text/plain": [
       "                           service_setting\n",
       "General Practice                    359274\n",
       "Primary Care Network                183790\n",
       "Other                               138789\n",
       "Extended Access Provision           108122\n",
       "Unmapped                             27419"
      ]
     },
     "execution_count": 35,
     "metadata": {},
     "output_type": "execute_result"
    }
   ],
   "source": [
    "# Count how many service settings are there\n",
    "nc['service_setting'].value_counts().to_frame()"
   ]
  },
  {
   "cell_type": "code",
   "execution_count": 51,
   "id": "325fa33a",
   "metadata": {
    "scrolled": true
   },
   "outputs": [
    {
     "name": "stdout",
     "output_type": "stream",
     "text": [
      "                           service_setting\n",
      "General Practice                    359274\n",
      "Primary Care Network                183790\n",
      "Other                               138789\n",
      "Extended Access Provision           108122\n",
      "Unmapped                             27419 \n",
      "\n",
      "There are 5 service settings used.\n"
     ]
    }
   ],
   "source": [
    "# Count how many service settings are there\n",
    "serv_set = nc['service_setting'].value_counts().to_frame()\n",
    "\n",
    "print(serv_set, '\\n')\n",
    "print(f\"There are {len(serv_set)} service settings used.\")"
   ]
  },
  {
   "cell_type": "markdown",
   "id": "c2478439",
   "metadata": {},
   "source": [
    " "
   ]
  },
  {
   "cell_type": "markdown",
   "id": "2ffcd7bb",
   "metadata": {},
   "source": [
    "**Context types:**"
   ]
  },
  {
   "cell_type": "code",
   "execution_count": 36,
   "id": "316800c3",
   "metadata": {},
   "outputs": [
    {
     "data": {
      "text/html": [
       "<div>\n",
       "<style scoped>\n",
       "    .dataframe tbody tr th:only-of-type {\n",
       "        vertical-align: middle;\n",
       "    }\n",
       "\n",
       "    .dataframe tbody tr th {\n",
       "        vertical-align: top;\n",
       "    }\n",
       "\n",
       "    .dataframe thead th {\n",
       "        text-align: right;\n",
       "    }\n",
       "</style>\n",
       "<table border=\"1\" class=\"dataframe\">\n",
       "  <thead>\n",
       "    <tr style=\"text-align: right;\">\n",
       "      <th></th>\n",
       "      <th>context_type</th>\n",
       "    </tr>\n",
       "  </thead>\n",
       "  <tbody>\n",
       "    <tr>\n",
       "      <th>Care Related Encounter</th>\n",
       "      <td>700481</td>\n",
       "    </tr>\n",
       "    <tr>\n",
       "      <th>Inconsistent Mapping</th>\n",
       "      <td>89494</td>\n",
       "    </tr>\n",
       "    <tr>\n",
       "      <th>Unmapped</th>\n",
       "      <td>27419</td>\n",
       "    </tr>\n",
       "  </tbody>\n",
       "</table>\n",
       "</div>"
      ],
      "text/plain": [
       "                        context_type\n",
       "Care Related Encounter        700481\n",
       "Inconsistent Mapping           89494\n",
       "Unmapped                       27419"
      ]
     },
     "execution_count": 36,
     "metadata": {},
     "output_type": "execute_result"
    }
   ],
   "source": [
    "# Count how many context types are there\n",
    "nc['context_type'].value_counts().to_frame()"
   ]
  },
  {
   "cell_type": "code",
   "execution_count": 52,
   "id": "74c4df3b",
   "metadata": {},
   "outputs": [
    {
     "name": "stdout",
     "output_type": "stream",
     "text": [
      "                        context_type\n",
      "Care Related Encounter        700481\n",
      "Inconsistent Mapping           89494\n",
      "Unmapped                       27419 \n",
      "\n",
      "There are 3 context types used.\n"
     ]
    }
   ],
   "source": [
    "# Count how many context types are there\n",
    "con_types = nc['context_type'].value_counts().to_frame()\n",
    "\n",
    "print(con_types, '\\n')\n",
    "print(f\"There are {len(con_types)} context types used.\")"
   ]
  },
  {
   "cell_type": "markdown",
   "id": "24242468",
   "metadata": {},
   "source": [
    " "
   ]
  },
  {
   "cell_type": "markdown",
   "id": "77457bc7",
   "metadata": {},
   "source": [
    " "
   ]
  },
  {
   "cell_type": "markdown",
   "id": "a809daa4",
   "metadata": {},
   "source": [
    "**National categories:**"
   ]
  },
  {
   "cell_type": "code",
   "execution_count": 37,
   "id": "2641fd01",
   "metadata": {
    "scrolled": true
   },
   "outputs": [
    {
     "data": {
      "text/html": [
       "<div>\n",
       "<style scoped>\n",
       "    .dataframe tbody tr th:only-of-type {\n",
       "        vertical-align: middle;\n",
       "    }\n",
       "\n",
       "    .dataframe tbody tr th {\n",
       "        vertical-align: top;\n",
       "    }\n",
       "\n",
       "    .dataframe thead th {\n",
       "        text-align: right;\n",
       "    }\n",
       "</style>\n",
       "<table border=\"1\" class=\"dataframe\">\n",
       "  <thead>\n",
       "    <tr style=\"text-align: right;\">\n",
       "      <th></th>\n",
       "      <th>national_category</th>\n",
       "    </tr>\n",
       "  </thead>\n",
       "  <tbody>\n",
       "    <tr>\n",
       "      <th>Inconsistent Mapping</th>\n",
       "      <td>89494</td>\n",
       "    </tr>\n",
       "    <tr>\n",
       "      <th>General Consultation Routine</th>\n",
       "      <td>89329</td>\n",
       "    </tr>\n",
       "    <tr>\n",
       "      <th>General Consultation Acute</th>\n",
       "      <td>84874</td>\n",
       "    </tr>\n",
       "    <tr>\n",
       "      <th>Planned Clinics</th>\n",
       "      <td>76429</td>\n",
       "    </tr>\n",
       "    <tr>\n",
       "      <th>Clinical Triage</th>\n",
       "      <td>74539</td>\n",
       "    </tr>\n",
       "    <tr>\n",
       "      <th>Planned Clinical Procedure</th>\n",
       "      <td>59631</td>\n",
       "    </tr>\n",
       "    <tr>\n",
       "      <th>Structured Medication Review</th>\n",
       "      <td>44467</td>\n",
       "    </tr>\n",
       "    <tr>\n",
       "      <th>Service provided by organisation external to the practice</th>\n",
       "      <td>43095</td>\n",
       "    </tr>\n",
       "    <tr>\n",
       "      <th>Home Visit</th>\n",
       "      <td>41850</td>\n",
       "    </tr>\n",
       "    <tr>\n",
       "      <th>Unplanned Clinical Activity</th>\n",
       "      <td>40415</td>\n",
       "    </tr>\n",
       "    <tr>\n",
       "      <th>Patient contact during Care Home Round</th>\n",
       "      <td>28795</td>\n",
       "    </tr>\n",
       "    <tr>\n",
       "      <th>Unmapped</th>\n",
       "      <td>27419</td>\n",
       "    </tr>\n",
       "    <tr>\n",
       "      <th>Care Home Visit</th>\n",
       "      <td>26644</td>\n",
       "    </tr>\n",
       "    <tr>\n",
       "      <th>Social Prescribing Service</th>\n",
       "      <td>26492</td>\n",
       "    </tr>\n",
       "    <tr>\n",
       "      <th>Care Home Needs Assessment &amp; Personalised Care and Support Planning</th>\n",
       "      <td>23505</td>\n",
       "    </tr>\n",
       "    <tr>\n",
       "      <th>Non-contractual chargeable work</th>\n",
       "      <td>20896</td>\n",
       "    </tr>\n",
       "    <tr>\n",
       "      <th>Walk-in</th>\n",
       "      <td>14179</td>\n",
       "    </tr>\n",
       "    <tr>\n",
       "      <th>Group Consultation and Group Education</th>\n",
       "      <td>5341</td>\n",
       "    </tr>\n",
       "  </tbody>\n",
       "</table>\n",
       "</div>"
      ],
      "text/plain": [
       "                                                    national_category\n",
       "Inconsistent Mapping                                            89494\n",
       "General Consultation Routine                                    89329\n",
       "General Consultation Acute                                      84874\n",
       "Planned Clinics                                                 76429\n",
       "Clinical Triage                                                 74539\n",
       "Planned Clinical Procedure                                      59631\n",
       "Structured Medication Review                                    44467\n",
       "Service provided by organisation external to th...              43095\n",
       "Home Visit                                                      41850\n",
       "Unplanned Clinical Activity                                     40415\n",
       "Patient contact during Care Home Round                          28795\n",
       "Unmapped                                                        27419\n",
       "Care Home Visit                                                 26644\n",
       "Social Prescribing Service                                      26492\n",
       "Care Home Needs Assessment & Personalised Care ...              23505\n",
       "Non-contractual chargeable work                                 20896\n",
       "Walk-in                                                         14179\n",
       "Group Consultation and Group Education                           5341"
      ]
     },
     "execution_count": 37,
     "metadata": {},
     "output_type": "execute_result"
    }
   ],
   "source": [
    "# Count how many national categories are there\n",
    "nc['national_category'].value_counts().to_frame()"
   ]
  },
  {
   "cell_type": "code",
   "execution_count": 53,
   "id": "47042e77",
   "metadata": {},
   "outputs": [
    {
     "name": "stdout",
     "output_type": "stream",
     "text": [
      "                                                    national_category\n",
      "Inconsistent Mapping                                            89494\n",
      "General Consultation Routine                                    89329\n",
      "General Consultation Acute                                      84874\n",
      "Planned Clinics                                                 76429\n",
      "Clinical Triage                                                 74539\n",
      "Planned Clinical Procedure                                      59631\n",
      "Structured Medication Review                                    44467\n",
      "Service provided by organisation external to th...              43095\n",
      "Home Visit                                                      41850\n",
      "Unplanned Clinical Activity                                     40415\n",
      "Patient contact during Care Home Round                          28795\n",
      "Unmapped                                                        27419\n",
      "Care Home Visit                                                 26644\n",
      "Social Prescribing Service                                      26492\n",
      "Care Home Needs Assessment & Personalised Care ...              23505\n",
      "Non-contractual chargeable work                                 20896\n",
      "Walk-in                                                         14179\n",
      "Group Consultation and Group Education                           5341 \n",
      "\n",
      "There are 18 national categories used.\n"
     ]
    }
   ],
   "source": [
    "# Count how many national categories are there\n",
    "nat_cat = nc['national_category'].value_counts().to_frame()\n",
    "\n",
    "print(nat_cat, '\\n')\n",
    "print(f\"There are {len(nat_cat)} national categories used.\")"
   ]
  },
  {
   "cell_type": "markdown",
   "id": "f944d917",
   "metadata": {},
   "source": [
    " "
   ]
  },
  {
   "cell_type": "markdown",
   "id": "e3b27462",
   "metadata": {},
   "source": [
    "**Appointment statuses:**"
   ]
  },
  {
   "cell_type": "code",
   "execution_count": 38,
   "id": "d32961f2",
   "metadata": {
    "scrolled": false
   },
   "outputs": [
    {
     "data": {
      "text/html": [
       "<div>\n",
       "<style scoped>\n",
       "    .dataframe tbody tr th:only-of-type {\n",
       "        vertical-align: middle;\n",
       "    }\n",
       "\n",
       "    .dataframe tbody tr th {\n",
       "        vertical-align: top;\n",
       "    }\n",
       "\n",
       "    .dataframe thead th {\n",
       "        text-align: right;\n",
       "    }\n",
       "</style>\n",
       "<table border=\"1\" class=\"dataframe\">\n",
       "  <thead>\n",
       "    <tr style=\"text-align: right;\">\n",
       "      <th></th>\n",
       "      <th>appointment_status</th>\n",
       "    </tr>\n",
       "  </thead>\n",
       "  <tbody>\n",
       "    <tr>\n",
       "      <th>Attended</th>\n",
       "      <td>232137</td>\n",
       "    </tr>\n",
       "    <tr>\n",
       "      <th>Unknown</th>\n",
       "      <td>201324</td>\n",
       "    </tr>\n",
       "    <tr>\n",
       "      <th>DNA</th>\n",
       "      <td>163360</td>\n",
       "    </tr>\n",
       "  </tbody>\n",
       "</table>\n",
       "</div>"
      ],
      "text/plain": [
       "          appointment_status\n",
       "Attended              232137\n",
       "Unknown               201324\n",
       "DNA                   163360"
      ]
     },
     "execution_count": 38,
     "metadata": {},
     "output_type": "execute_result"
    }
   ],
   "source": [
    "# Count how many appointment statuses are there\n",
    "ar['appointment_status'].value_counts().to_frame()"
   ]
  },
  {
   "cell_type": "code",
   "execution_count": 54,
   "id": "01b6b338",
   "metadata": {
    "scrolled": false
   },
   "outputs": [
    {
     "name": "stdout",
     "output_type": "stream",
     "text": [
      "          appointment_status\n",
      "Attended              232137\n",
      "Unknown               201324\n",
      "DNA                   163360 \n",
      "\n",
      "There are 3 appointment statuses used.\n"
     ]
    }
   ],
   "source": [
    "# Count how many appointment statuses are there\n",
    "app_stat = ar['appointment_status'].value_counts().to_frame()\n",
    "\n",
    "print(app_stat, '\\n')\n",
    "print(f\"There are {len(app_stat)} appointment statuses used.\")"
   ]
  },
  {
   "cell_type": "code",
   "execution_count": 55,
   "id": "75b6560a",
   "metadata": {},
   "outputs": [
    {
     "name": "stdout",
     "output_type": "stream",
     "text": [
      "       icb_ons_code appointment_status  count_of_appointments\n",
      "0         E54000034           Attended                   8107\n",
      "1         E54000034           Attended                   6791\n",
      "2         E54000034           Attended                  20686\n",
      "3         E54000034           Attended                   4268\n",
      "4         E54000034           Attended                  11971\n",
      "...             ...                ...                    ...\n",
      "596816    E54000050            Unknown                     21\n",
      "596817    E54000050            Unknown                      8\n",
      "596818    E54000050            Unknown                     28\n",
      "596819    E54000050            Unknown                     17\n",
      "596820    E54000050            Unknown                     10\n",
      "\n",
      "[596821 rows x 3 columns]\n"
     ]
    }
   ],
   "source": [
    "app_stat_subset = ar[['icb_ons_code', 'appointment_status', 'count_of_appointments']]\n",
    "print(app_stat_subset)"
   ]
  },
  {
   "cell_type": "code",
   "execution_count": 58,
   "id": "34d17037",
   "metadata": {
    "scrolled": true
   },
   "outputs": [
    {
     "name": "stdout",
     "output_type": "stream",
     "text": [
      "appointment_status\n",
      "Attended    677755876\n",
      "Unknown      34137416\n",
      "DNA          30911233\n",
      "Name: count_of_appointments, dtype: int64\n"
     ]
    }
   ],
   "source": [
    "# Determine the total count of status to understand opportunities in data\n",
    "app_stat_sum = app_stat_subset.groupby(['appointment_status'])['count_of_appointments']\\\n",
    ".agg(sum).sort_values(ascending=False)\n",
    "\n",
    "# View the DataFrame\n",
    "print(app_stat_sum)"
   ]
  },
  {
   "cell_type": "markdown",
   "id": "d85aad3a",
   "metadata": {},
   "source": [
    " "
   ]
  },
  {
   "cell_type": "markdown",
   "id": "bece0af2",
   "metadata": {},
   "source": [
    "### Are there any insights and trends identified while determining the results?"
   ]
  },
  {
   "cell_type": "markdown",
   "id": "8058382a",
   "metadata": {},
   "source": [
    "As already indicated there are a lot of quality issues in the data and that is apparent here.  However, looking at the content itself:\n",
    "1. On apppointment status, which we will dwell on in this project:\n",
    "    - 91% of the regional appointments show that patients have attended their appointments.  there is 5% of Did not Attend (DNA) and 4% Unknown that we have an opportunity to look into further.  This is where the unnecessary costs are.\n",
    "\n",
    "2. On national categories and context types:\n",
    "    - From a data sanitation and streamlining perspective, it would be beneficial if the national categories are standardised so that time spent and future pritoritisation can be reviewed more accurately.\n",
    "    - Inconsistent mapping is at 5th position while Unmapped items is currently 7th (in volume) out of 18 categories.  This is a sizeable 13% of transactions that we cannot trace at the moment."
   ]
  }
 ],
 "metadata": {
  "kernelspec": {
   "display_name": "Python 3 (ipykernel)",
   "language": "python",
   "name": "python3"
  },
  "language_info": {
   "codemirror_mode": {
    "name": "ipython",
    "version": 3
   },
   "file_extension": ".py",
   "mimetype": "text/x-python",
   "name": "python",
   "nbconvert_exporter": "python",
   "pygments_lexer": "ipython3",
   "version": "3.9.12"
  }
 },
 "nbformat": 4,
 "nbformat_minor": 5
}
